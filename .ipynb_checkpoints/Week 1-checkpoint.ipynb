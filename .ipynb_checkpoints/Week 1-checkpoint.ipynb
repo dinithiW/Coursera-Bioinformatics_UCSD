{
 "cells": [
  {
   "cell_type": "markdown",
   "metadata": {},
   "source": [
    "Pattern Count"
   ]
  },
  {
   "cell_type": "code",
   "execution_count": 14,
   "metadata": {},
   "outputs": [
    {
     "name": "stdout",
     "output_type": "stream",
     "text": [
      "27\n"
     ]
    }
   ],
   "source": [
    "f = open(\"abcd.txt\", \"r\")\n",
    "text = f.readline().strip()\n",
    "#full_str = \"ABABEFABABABFG\"\n",
    "#pattern = \"ABAB\"\n",
    "pattern = f.readline().strip()\n",
    "f.close()\n",
    "\n",
    "def PatternCount(text,pattern):\n",
    "    \n",
    "    end_position = len(text) - len(pattern) + 1\n",
    "    count = 0\n",
    "    \n",
    "    for i in range(0,end_position):\n",
    "    #print(text[i:i+len(pattern)])\n",
    "        if text[i:i+len(pattern)] ==pattern:\n",
    "            #print(text[i:i+len(pattern)])\n",
    "            count+=1\n",
    "    return count\n",
    "\n",
    "print(PatternCount(text,pattern))"
   ]
  },
  {
   "cell_type": "markdown",
   "metadata": {},
   "source": [
    "Frequent Words"
   ]
  },
  {
   "cell_type": "code",
   "execution_count": 21,
   "metadata": {},
   "outputs": [
    {
     "name": "stdout",
     "output_type": "stream",
     "text": [
      "CATG GCAT {'CATG', 'GCAT'}\n"
     ]
    }
   ],
   "source": [
    "f = open(\"abcd.txt\", \"r\")\n",
    "text = f.readline().strip()\n",
    "k = int(f.readline().strip())\n",
    "FrequentWords((text,k))\n",
    "f.close()\n",
    "\n",
    "def FrequentWords(text, k):\n",
    "    frequent_patterns = []\n",
    "    end_position = len(text) - k + 1\n",
    "    count_arr = [0]*(end_position)\n",
    "    max_count = 0\n",
    "    \n",
    "    for i in range(0,end_position):\n",
    "        pattern = text[i:i+k]\n",
    "        count_arr[i] = PatternCount(text,pattern)\n",
    "    max_count = max(count_arr)\n",
    "    \n",
    "    for i in range(0,end_position):\n",
    "        if count_arr[i] == max_count:\n",
    "            frequent_patterns.append(text[i:i+k])\n",
    "            \n",
    "    uniques = set(frequent_patterns)\n",
    "    for i in uniques:\n",
    "        print(i,end =\" \")\n",
    "    #return uniques"
   ]
  },
  {
   "cell_type": "code",
   "execution_count": null,
   "metadata": {},
   "outputs": [],
   "source": []
  }
 ],
 "metadata": {
  "kernelspec": {
   "display_name": "Python 3",
   "language": "python",
   "name": "python3"
  },
  "language_info": {
   "codemirror_mode": {
    "name": "ipython",
    "version": 3
   },
   "file_extension": ".py",
   "mimetype": "text/x-python",
   "name": "python",
   "nbconvert_exporter": "python",
   "pygments_lexer": "ipython3",
   "version": "3.7.0"
  }
 },
 "nbformat": 4,
 "nbformat_minor": 2
}
